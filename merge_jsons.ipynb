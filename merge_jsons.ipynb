{
 "cells": [
  {
   "cell_type": "code",
   "execution_count": 1,
   "metadata": {},
   "outputs": [],
   "source": [
    "from os import listdir\n",
    "import json"
   ]
  },
  {
   "cell_type": "code",
   "execution_count": 2,
   "metadata": {},
   "outputs": [],
   "source": [
    "folders = ['collaborative', 'content', 'collection']"
   ]
  },
  {
   "cell_type": "code",
   "execution_count": 3,
   "metadata": {},
   "outputs": [],
   "source": [
    "def merge_json(folder):\n",
    "    all_data = {}\n",
    "    print('recommendations/'+folder+'/')\n",
    "    for i in listdir('recommendations/'+folder):\n",
    "        with open('recommendations/'+folder+'/'+i) as f:\n",
    "            data = json.load(f)\n",
    "            for j in data:\n",
    "                all_data[j] = data[j]\n",
    "\n",
    "    with open('recommendations/'+folder+'/'+folder+'.json', 'w') as fp:\n",
    "        json.dump(all_data, fp)"
   ]
  },
  {
   "cell_type": "code",
   "execution_count": 4,
   "metadata": {},
   "outputs": [
    {
     "name": "stdout",
     "output_type": "stream",
     "text": [
      "recommendations/collaborative/\n",
      "recommendations/content/\n",
      "recommendations/collection/\n"
     ]
    }
   ],
   "source": [
    "for folder in folders:\n",
    "    merge_json(folder)"
   ]
  },
  {
   "cell_type": "code",
   "execution_count": null,
   "metadata": {},
   "outputs": [],
   "source": []
  }
 ],
 "metadata": {
  "kernelspec": {
   "display_name": "Python 3",
   "language": "python",
   "name": "python3"
  },
  "language_info": {
   "codemirror_mode": {
    "name": "ipython",
    "version": 3
   },
   "file_extension": ".py",
   "mimetype": "text/x-python",
   "name": "python",
   "nbconvert_exporter": "python",
   "pygments_lexer": "ipython3",
   "version": "3.6.5"
  }
 },
 "nbformat": 4,
 "nbformat_minor": 2
}
